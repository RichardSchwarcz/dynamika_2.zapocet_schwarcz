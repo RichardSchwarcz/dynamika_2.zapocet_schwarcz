{
 "cells": [
  {
   "cell_type": "code",
   "execution_count": 3,
   "metadata": {},
   "outputs": [],
   "source": [
    "import numpy as np\n",
    "\n",
    "from modules.zapocet import * \n"
   ]
  },
  {
   "cell_type": "code",
   "execution_count": 4,
   "metadata": {},
   "outputs": [],
   "source": [
    "FI = 300  # mm\n",
    "TW = 10  # mm\n",
    "H = 50  # m\n",
    "M = 1000  # kg\n",
    "q = 1.5 # sucinitel duktility\n",
    "ag = 0.63 # spickove zrychlenie\n",
    "tvary = 3 # pocet tvarov\n",
    "hmoty = 4 # pocet hmot\n",
    "polozie = \"C\"\n",
    "typ_spektra = 2"
   ]
  },
  {
   "cell_type": "code",
   "execution_count": 5,
   "metadata": {},
   "outputs": [
    {
     "name": "stdout",
     "output_type": "stream",
     "text": [
      "f1 = 0.071 hz \n",
      "f2 = 0.436 hz \n",
      "f3 = 1.2 hz\n"
     ]
    }
   ],
   "source": [
    "f = vlastne_frekvencie([0.071, 0.436, 1.2])\n",
    "print(f'f1 = {f[0]} hz \\nf2 = {f[1]} hz \\nf3 = {f[2]} hz')"
   ]
  },
  {
   "cell_type": "code",
   "execution_count": 4,
   "metadata": {},
   "outputs": [
    {
     "name": "stdout",
     "output_type": "stream",
     "text": [
      "omega1 = 0.446 rad/s \n",
      "omega2 = 2.739 rad/s \n",
      "omega3 = 7.540 rad/s\n"
     ]
    }
   ],
   "source": [
    "omega = uhlove_frekvencie(f)\n",
    "print(f'omega1 = {omega[0]:.3f} rad/s \\nomega2 = {omega[1]:.3f} rad/s \\nomega3 = {omega[2]:.3f} rad/s')"
   ]
  },
  {
   "cell_type": "code",
   "execution_count": 5,
   "metadata": {},
   "outputs": [
    {
     "name": "stdout",
     "output_type": "stream",
     "text": [
      "T1 = 14.085 s \n",
      "T2 = 2.294 s \n",
      "T3 = 0.833 s\n"
     ]
    }
   ],
   "source": [
    "T = vlastne_periody(f)\n",
    "print(f'T1 = {T[0]:.3f} s \\nT2 = {T[1]:.3f} s \\nT3 = {T[2]:.3f} s')"
   ]
  },
  {
   "cell_type": "markdown",
   "metadata": {},
   "source": [
    "Normovane poradnice vlastnych tvarov"
   ]
  },
  {
   "cell_type": "code",
   "execution_count": 6,
   "metadata": {},
   "outputs": [],
   "source": [
    "# 1. poradnice vlastny tvar\n",
    "por_1 = [0.09379, 0.33105, 0.64964, 1.00000]\n",
    "\n",
    "# 2. poradnice vlastny tvar\n",
    "por_2 = [0.51996, 1.00000, 0.46954, -0.89641]\n",
    "\n",
    "# 3. poradnice vlastny tvar\n",
    "por_3 = [-0.94157, -0.29134, 0.89985, -0.52332]"
   ]
  },
  {
   "cell_type": "code",
   "execution_count": 7,
   "metadata": {},
   "outputs": [
    {
     "data": {
      "text/plain": [
       "array([[ 0.09379,  0.33105,  0.64964,  1.     ],\n",
       "       [ 0.51996,  1.     ,  0.46954, -0.89641],\n",
       "       [-0.94157, -0.29134,  0.89985, -0.52332]])"
      ]
     },
     "execution_count": 7,
     "metadata": {},
     "output_type": "execute_result"
    }
   ],
   "source": [
    "poradnice = np.array([por_1, por_2, por_3])\n",
    "poradnice"
   ]
  },
  {
   "cell_type": "markdown",
   "metadata": {},
   "source": [
    "### Navrhove spektrum"
   ]
  },
  {
   "cell_type": "code",
   "execution_count": 20,
   "metadata": {},
   "outputs": [
    {
     "data": {
      "text/plain": [
       "{'S': 1.5, 'T_B': 0.1, 'T_C': 0.25, 'T_D': 1.2}"
      ]
     },
     "execution_count": 20,
     "metadata": {},
     "output_type": "execute_result"
    }
   ],
   "source": [
    "parametre = spektrum_parametre(\"C\", typ_spektra)\n",
    "parametre"
   ]
  },
  {
   "cell_type": "code",
   "execution_count": 21,
   "metadata": {},
   "outputs": [],
   "source": [
    "def spektrum(ag, q, periody):\n",
    "    Sd = []\n",
    "    for perioda in periody:\n",
    "        Sd.append(sd(parametre, perioda, ag, q))\n",
    "    print(f'Sd1 = {Sd[0]:.3f} \\nSd2 = {Sd[1]:.3f} \\nSd3 = {Sd[2]:.3f}')\n",
    "    return Sd"
   ]
  },
  {
   "cell_type": "code",
   "execution_count": 22,
   "metadata": {},
   "outputs": [
    {
     "name": "stdout",
     "output_type": "stream",
     "text": [
      "Sd1 = 0.126 \n",
      "Sd2 = 0.126 \n",
      "Sd3 = 0.473\n"
     ]
    }
   ],
   "source": [
    "Sd = spektrum(ag, q, T)"
   ]
  },
  {
   "cell_type": "code",
   "execution_count": 23,
   "metadata": {},
   "outputs": [],
   "source": [
    "def ni(poradnice, M, stlpec, riadok):\n",
    "    i = stlpec\n",
    "    j = riadok\n",
    "\n",
    "    poradnice_sum = np.sum(poradnice, axis=1)\n",
    "    citatel = poradnice_sum[j]*M*poradnice[j][i]\n",
    "    temp = np.array(poradnice[j])**2*M\n",
    "    menovatel = np.sum(temp)\n",
    "\n",
    "    return citatel/menovatel"
   ]
  },
  {
   "cell_type": "code",
   "execution_count": 24,
   "metadata": {},
   "outputs": [],
   "source": [
    "ni_ = []\n",
    "for i in range(hmoty):\n",
    "    stlpce = []\n",
    "    for j in range(tvary):\n",
    "        stlpce.append(ni(poradnice, M, stlpec=i, riadok=j))\n",
    "    ni_.append(stlpce)"
   ]
  },
  {
   "cell_type": "code",
   "execution_count": 25,
   "metadata": {},
   "outputs": [
    {
     "data": {
      "text/plain": [
       "array([[ 0.12630654,  0.44582345,  0.87486708,  1.34669521],\n",
       "       [ 0.24771999,  0.47642125,  0.22369883, -0.42706877],\n",
       "       [ 0.39237526,  0.12140851, -0.37498952,  0.21808025]])"
      ]
     },
     "execution_count": 25,
     "metadata": {},
     "output_type": "execute_result"
    }
   ],
   "source": [
    "ni_ = np.array(ni_).T\n",
    "ni_"
   ]
  },
  {
   "cell_type": "code",
   "execution_count": 26,
   "metadata": {},
   "outputs": [],
   "source": [
    "def odozva_preTvar(ni, M, Sd, ag, tvar):\n",
    "    return ni[tvar]*ag*M*Sd[tvar]"
   ]
  },
  {
   "cell_type": "code",
   "execution_count": 27,
   "metadata": {},
   "outputs": [
    {
     "name": "stdout",
     "output_type": "stream",
     "text": [
      "1. vlastny tvar \n",
      "R1 = [ 10.02621344  35.38946539  69.44694848 106.90066572]\n",
      "2. vlastny tvar \n",
      "R2 = [ 19.66401294  37.8183186   17.75721331 -33.90071897]\n",
      "3. vlastny tvar \n",
      "R3 = [ 116.80030556   36.14027743 -111.62500394   64.91703846]\n"
     ]
    }
   ],
   "source": [
    "odozvy = []\n",
    "for i in range(tvary):\n",
    "    temp = odozva_preTvar(ni_, M, Sd, ag, tvar=i)\n",
    "    print(f'{i+1}. vlastny tvar \\nR{i+1} = {temp}')\n",
    "    odozvy.append(temp)\n",
    "odozvy = np.array(odozvy)"
   ]
  },
  {
   "cell_type": "code",
   "execution_count": 28,
   "metadata": {},
   "outputs": [],
   "source": [
    "# bulharska_konstanta_1 = 8.37698\n",
    "# bulharska_konstanta_2 = 0.054785"
   ]
  },
  {
   "cell_type": "code",
   "execution_count": 29,
   "metadata": {},
   "outputs": [],
   "source": [
    "# R1 = odozvy[0]*bulharska_konstanta_1\n",
    "# R2 = odozvy[1]\n",
    "# R3 = odozvy[2]*bulharska_konstanta_2"
   ]
  },
  {
   "cell_type": "code",
   "execution_count": 30,
   "metadata": {},
   "outputs": [
    {
     "name": "stdout",
     "output_type": "stream",
     "text": [
      "V1 = 249.346 N\n",
      "V2 = 213.106 N\n",
      "V3 = 183.141 N\n",
      "V4 = 129.581 N\n"
     ]
    }
   ],
   "source": [
    "for i in range(hmoty):\n",
    "    V = np.sqrt(np.sum(odozvy[0][i:hmoty])**2+np.sum(odozvy[1][i:hmoty])**2+np.sum(odozvy[2][i:hmoty])**2)\n",
    "    print(f'V{i+1} = {V:.3f} N')"
   ]
  },
  {
   "cell_type": "code",
   "execution_count": 31,
   "metadata": {},
   "outputs": [
    {
     "name": "stdout",
     "output_type": "stream",
     "text": [
      "r1 = 12.5 m \n",
      "r2 = 25.0 m \n",
      "r3 = 37.5 m\n"
     ]
    }
   ],
   "source": [
    "ramena = H_vector(H)\n",
    "print(f'r1 = {ramena[0]} m \\nr2 = {ramena[1]} m \\nr3 = {ramena[2]} m')"
   ]
  },
  {
   "cell_type": "code",
   "execution_count": 32,
   "metadata": {},
   "outputs": [],
   "source": [
    "def moment_preklopenia(M, ag, Sd, ni_, ramena, stlpec, riadok):\n",
    "    i = stlpec\n",
    "    j = riadok\n",
    "\n",
    "    moment = M*ag*Sd[i]*ni_[i][j]*ramena[j]\n",
    "    return moment"
   ]
  },
  {
   "cell_type": "code",
   "execution_count": 33,
   "metadata": {},
   "outputs": [
    {
     "name": "stdout",
     "output_type": "stream",
     "text": [
      "uzol 1:\n",
      "Tvar1 - M = 125.328 Nm\n",
      "Tvar2 - M = 245.800 Nm\n",
      "Tvar3 - M = 1460.004 Nm\n",
      "uzol 2:\n",
      "Tvar1 - M = 884.737 Nm\n",
      "Tvar2 - M = 945.458 Nm\n",
      "Tvar3 - M = 903.507 Nm\n",
      "uzol 3:\n",
      "Tvar1 - M = 2604.261 Nm\n",
      "Tvar2 - M = 665.895 Nm\n",
      "Tvar3 - M = -4185.938 Nm\n",
      "uzol 4:\n",
      "Tvar1 - M = 5345.033 Nm\n",
      "Tvar2 - M = -1695.036 Nm\n",
      "Tvar3 - M = 3245.852 Nm\n"
     ]
    }
   ],
   "source": [
    "momenty_preklopenia = []\n",
    "for j in range(hmoty):\n",
    "    print(f'uzol {j+1}:')\n",
    "    moment_v_uzle = []\n",
    "    for i in range(tvary):\n",
    "        temp = moment_preklopenia(M, ag, Sd, ni_, ramena, stlpec=i, riadok=j)\n",
    "        print(f'Tvar{i+1} - M = {temp:.3f} Nm')\n",
    "        moment_v_uzle.append(temp)\n",
    "    momenty_preklopenia.append(moment_v_uzle)"
   ]
  },
  {
   "cell_type": "code",
   "execution_count": 34,
   "metadata": {},
   "outputs": [],
   "source": [
    "def ohybove_momenty(odozvy, hmoty, ramena, tvary):\n",
    "    for i in range(hmoty):\n",
    "        odmocnit = []\n",
    "        for j in range(tvary):\n",
    "            odmocnit.append((np.dot(odozvy[j][i+1:hmoty], ramena[0:hmoty-i-1]))**2)\n",
    "        \n",
    "        print(f'M{i+1} = {np.sqrt(np.sum(odmocnit))/1000:.5f} kNm')"
   ]
  },
  {
   "cell_type": "code",
   "execution_count": 35,
   "metadata": {},
   "outputs": [
    {
     "name": "stdout",
     "output_type": "stream",
     "text": [
      "M1 = 6.19821 kNm\n",
      "M2 = 3.60264 kNm\n",
      "M3 = 1.61976 kNm\n",
      "M4 = 0.00000 kNm\n"
     ]
    }
   ],
   "source": [
    "ohybove_momenty(odozvy, hmoty, ramena, tvary)"
   ]
  },
  {
   "cell_type": "code",
   "execution_count": 36,
   "metadata": {},
   "outputs": [],
   "source": [
    "def ohybovy_moment_votknutie(momenty_preklopenia):\n",
    "    M_sum = np.sum(momenty_preklopenia, axis=1)\n",
    "    M_max = np.sqrt(M_sum[0]**2+M_sum[1]**2+M_sum[2]**2)/1000\n",
    "    print(f'M_max = {M_max:.5f} kNm')"
   ]
  },
  {
   "cell_type": "code",
   "execution_count": 37,
   "metadata": {},
   "outputs": [
    {
     "name": "stdout",
     "output_type": "stream",
     "text": [
      "M_max = 3.41538 kNm\n"
     ]
    }
   ],
   "source": [
    "ohybovy_moment_votknutie(momenty_preklopenia)"
   ]
  }
 ],
 "metadata": {
  "kernelspec": {
   "display_name": "Python 3.8.8 ('base')",
   "language": "python",
   "name": "python3"
  },
  "language_info": {
   "codemirror_mode": {
    "name": "ipython",
    "version": 3
   },
   "file_extension": ".py",
   "mimetype": "text/x-python",
   "name": "python",
   "nbconvert_exporter": "python",
   "pygments_lexer": "ipython3",
   "version": "3.8.8 (default, Apr 13 2021, 15:08:03) [MSC v.1916 64 bit (AMD64)]"
  },
  "orig_nbformat": 4,
  "vscode": {
   "interpreter": {
    "hash": "75918162d800b4b0afe9003a3a21e108f30b56a8709e9e92681416565459cfc0"
   }
  }
 },
 "nbformat": 4,
 "nbformat_minor": 2
}
