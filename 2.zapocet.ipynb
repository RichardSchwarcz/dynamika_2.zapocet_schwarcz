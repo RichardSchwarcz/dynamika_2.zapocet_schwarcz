{
 "cells": [
  {
   "cell_type": "code",
   "execution_count": 1,
   "metadata": {},
   "outputs": [],
   "source": [
    "import numpy as np\n",
    "\n",
    "from modules.zapocet import * "
   ]
  },
  {
   "cell_type": "code",
   "execution_count": 2,
   "metadata": {},
   "outputs": [],
   "source": [
    "FI = 300  # mm\n",
    "TW = 20  # mm\n",
    "H = 50  # m\n",
    "M = 1000  # kg\n",
    "q = 1.5 # sucinitel duktility\n",
    "ag = 0.63 # spickove zrychlenie\n",
    "tvary = 3 # pocet tvarov\n",
    "hmoty = 4 # pocet hmot\n",
    "podlozie = \"B\"\n",
    "typ_spektra = 2"
   ]
  },
  {
   "cell_type": "code",
   "execution_count": 3,
   "metadata": {},
   "outputs": [
    {
     "name": "stdout",
     "output_type": "stream",
     "text": [
      "f1 = 0.082 hz \n",
      "f2 = 0.496 hz \n",
      "f3 = 1.353 hz\n"
     ]
    }
   ],
   "source": [
    "f = vlastne_frekvencie([0.082, 0.496, 1.353])\n",
    "print(f'f1 = {f[0]} hz \\nf2 = {f[1]} hz \\nf3 = {f[2]} hz')"
   ]
  },
  {
   "cell_type": "code",
   "execution_count": 4,
   "metadata": {},
   "outputs": [
    {
     "name": "stdout",
     "output_type": "stream",
     "text": [
      "omega1 = 0.515 rad/s \n",
      "omega2 = 3.116 rad/s \n",
      "omega3 = 8.501 rad/s\n"
     ]
    }
   ],
   "source": [
    "omega = uhlove_frekvencie(f)\n",
    "print(f'omega1 = {omega[0]:.3f} rad/s \\nomega2 = {omega[1]:.3f} rad/s \\nomega3 = {omega[2]:.3f} rad/s')"
   ]
  },
  {
   "cell_type": "code",
   "execution_count": 5,
   "metadata": {},
   "outputs": [
    {
     "name": "stdout",
     "output_type": "stream",
     "text": [
      "T1 = 12.195 s \n",
      "T2 = 2.016 s \n",
      "T3 = 0.739 s\n"
     ]
    }
   ],
   "source": [
    "T = vlastne_periody(f)\n",
    "print(f'T1 = {T[0]:.3f} s \\nT2 = {T[1]:.3f} s \\nT3 = {T[2]:.3f} s')"
   ]
  },
  {
   "cell_type": "markdown",
   "metadata": {},
   "source": [
    "Normovane poradnice vlastnych tvarov"
   ]
  },
  {
   "cell_type": "code",
   "execution_count": 6,
   "metadata": {},
   "outputs": [],
   "source": [
    "# 1. poradnice vlastny tvar\n",
    "por_1 = [0.09433, 0.33232, 0.65079, 1.00000]\n",
    "\n",
    "# 2. poradnice vlastny tvar\n",
    "por_2 = [0.52683, 1.00000, 0.43530, -0.97353]\n",
    "\n",
    "# 3. poradnice vlastny tvar\n",
    "por_3 = [-0.94353, -0.28080, 0.89383, -0.58439]"
   ]
  },
  {
   "cell_type": "code",
   "execution_count": 7,
   "metadata": {},
   "outputs": [
    {
     "data": {
      "text/plain": [
       "array([[ 0.09433,  0.33232,  0.65079,  1.     ],\n",
       "       [ 0.52683,  1.     ,  0.4353 , -0.97353],\n",
       "       [-0.94353, -0.2808 ,  0.89383, -0.58439]])"
      ]
     },
     "execution_count": 7,
     "metadata": {},
     "output_type": "execute_result"
    }
   ],
   "source": [
    "poradnice = np.array([por_1, por_2, por_3])\n",
    "poradnice"
   ]
  },
  {
   "cell_type": "markdown",
   "metadata": {},
   "source": [
    "### Navrhove spektrum"
   ]
  },
  {
   "cell_type": "code",
   "execution_count": 8,
   "metadata": {},
   "outputs": [
    {
     "data": {
      "text/plain": [
       "{'S': 1.35, 'T_B': 0.05, 'T_C': 0.25, 'T_D': 1.2}"
      ]
     },
     "execution_count": 8,
     "metadata": {},
     "output_type": "execute_result"
    }
   ],
   "source": [
    "parametre = spektrum_parametre(podlozie, typ_spektra)\n",
    "parametre"
   ]
  },
  {
   "cell_type": "code",
   "execution_count": 9,
   "metadata": {},
   "outputs": [],
   "source": [
    "def spektrum(ag, q, periody):\n",
    "    Sd = []\n",
    "    for perioda in periody:\n",
    "        Sd.append(sd(parametre, perioda, ag, q))\n",
    "    print(f'Sd1 = {Sd[0]:.3f} \\nSd2 = {Sd[1]:.3f} \\nSd3 = {Sd[2]:.3f}')\n",
    "    return Sd"
   ]
  },
  {
   "cell_type": "code",
   "execution_count": 10,
   "metadata": {},
   "outputs": [
    {
     "name": "stdout",
     "output_type": "stream",
     "text": [
      "Sd1 = 0.126 \n",
      "Sd2 = 0.126 \n",
      "Sd3 = 0.479\n"
     ]
    }
   ],
   "source": [
    "Sd = spektrum(ag, q, T)"
   ]
  },
  {
   "cell_type": "code",
   "execution_count": 11,
   "metadata": {},
   "outputs": [],
   "source": [
    "def ni(poradnice, M, stlpec, riadok):\n",
    "    i = stlpec\n",
    "    j = riadok\n",
    "\n",
    "    poradnice_sum = np.sum(poradnice, axis=1)\n",
    "    citatel = poradnice_sum[j]*M*poradnice[j][i]\n",
    "    temp = np.array(poradnice[j])**2*M\n",
    "    menovatel = np.sum(temp)\n",
    "\n",
    "    return citatel/menovatel"
   ]
  },
  {
   "cell_type": "code",
   "execution_count": 12,
   "metadata": {},
   "outputs": [],
   "source": [
    "ni_ = []\n",
    "for i in range(hmoty):\n",
    "    stlpce = []\n",
    "    for j in range(tvary):\n",
    "        stlpce.append(ni(poradnice, M, stlpec=i, riadok=j))\n",
    "    ni_.append(stlpce)"
   ]
  },
  {
   "cell_type": "code",
   "execution_count": 13,
   "metadata": {},
   "outputs": [
    {
     "data": {
      "text/plain": [
       "array([[ 0.12701387,  0.44746368,  0.87627854,  1.34648434],\n",
       "       [ 0.21568033,  0.40939266,  0.17820862, -0.39855603],\n",
       "       [ 0.40920089,  0.12178056, -0.38764643,  0.25344495]])"
      ]
     },
     "execution_count": 13,
     "metadata": {},
     "output_type": "execute_result"
    }
   ],
   "source": [
    "ni_ = np.array(ni_).T\n",
    "ni_"
   ]
  },
  {
   "cell_type": "code",
   "execution_count": 14,
   "metadata": {},
   "outputs": [],
   "source": [
    "def odozva_preTvar(ni, M, Sd, ag, tvar):\n",
    "    return ni[tvar]*ag*M*Sd[tvar]"
   ]
  },
  {
   "cell_type": "code",
   "execution_count": 15,
   "metadata": {},
   "outputs": [
    {
     "name": "stdout",
     "output_type": "stream",
     "text": [
      "1. vlastny tvar \n",
      "R1 = [ 10.08236082  35.51966658  69.55899078 106.88392689]\n",
      "2. vlastny tvar \n",
      "R2 = [ 17.12070494  32.49758924  14.1462006  -31.63737805]\n",
      "3. vlastny tvar \n",
      "R3 = [ 123.60555698   36.78573061 -117.09469227   76.55702675]\n"
     ]
    }
   ],
   "source": [
    "odozvy = []\n",
    "for i in range(tvary):\n",
    "    temp = odozva_preTvar(ni_, M, Sd, ag, tvar=i)\n",
    "    print(f'{i+1}. vlastny tvar \\nR{i+1} = {temp}')\n",
    "    odozvy.append(temp)\n",
    "odozvy = np.array(odozvy)"
   ]
  },
  {
   "cell_type": "code",
   "execution_count": 16,
   "metadata": {},
   "outputs": [
    {
     "name": "stdout",
     "output_type": "stream",
     "text": [
      "V1 = 254.364 N\n",
      "V2 = 212.526 N\n",
      "V3 = 181.883 N\n",
      "V4 = 135.226 N\n"
     ]
    }
   ],
   "source": [
    "for i in range(hmoty):\n",
    "    V = np.sqrt(np.sum(odozvy[0][i:hmoty])**2+np.sum(odozvy[1][i:hmoty])**2+np.sum(odozvy[2][i:hmoty])**2)\n",
    "    print(f'V{i+1} = {V:.3f} N')"
   ]
  },
  {
   "cell_type": "code",
   "execution_count": 17,
   "metadata": {},
   "outputs": [
    {
     "name": "stdout",
     "output_type": "stream",
     "text": [
      "r1 = 12.5 m \n",
      "r2 = 25.0 m \n",
      "r3 = 37.5 m\n"
     ]
    }
   ],
   "source": [
    "ramena = H_vector(H)\n",
    "print(f'r1 = {ramena[0]} m \\nr2 = {ramena[1]} m \\nr3 = {ramena[2]} m')"
   ]
  },
  {
   "cell_type": "code",
   "execution_count": 18,
   "metadata": {},
   "outputs": [],
   "source": [
    "def moment_preklopenia(M, ag, Sd, ni_, ramena, stlpec, riadok):\n",
    "    i = stlpec\n",
    "    j = riadok\n",
    "\n",
    "    moment = M*ag*Sd[i]*ni_[i][j]*ramena[j]\n",
    "    return moment"
   ]
  },
  {
   "cell_type": "code",
   "execution_count": 19,
   "metadata": {},
   "outputs": [
    {
     "name": "stdout",
     "output_type": "stream",
     "text": [
      "uzol 1:\n",
      "Tvar1 - M = 126.030 Nm\n",
      "Tvar2 - M = 214.009 Nm\n",
      "Tvar3 - M = 1545.069 Nm\n",
      "uzol 2:\n",
      "Tvar1 - M = 887.992 Nm\n",
      "Tvar2 - M = 812.440 Nm\n",
      "Tvar3 - M = 919.643 Nm\n",
      "uzol 3:\n",
      "Tvar1 - M = 2608.462 Nm\n",
      "Tvar2 - M = 530.483 Nm\n",
      "Tvar3 - M = -4391.051 Nm\n",
      "uzol 4:\n",
      "Tvar1 - M = 5344.196 Nm\n",
      "Tvar2 - M = -1581.869 Nm\n",
      "Tvar3 - M = 3827.851 Nm\n"
     ]
    }
   ],
   "source": [
    "momenty_preklopenia = []\n",
    "for j in range(hmoty):\n",
    "    print(f'uzol {j+1}:')\n",
    "    moment_v_uzle = []\n",
    "    for i in range(tvary):\n",
    "        temp = moment_preklopenia(M, ag, Sd, ni_, ramena, stlpec=i, riadok=j)\n",
    "        print(f'Tvar{i+1} - M = {temp:.3f} Nm')\n",
    "        moment_v_uzle.append(temp)\n",
    "    momenty_preklopenia.append(moment_v_uzle)"
   ]
  },
  {
   "cell_type": "code",
   "execution_count": 20,
   "metadata": {},
   "outputs": [],
   "source": [
    "def ohybove_momenty(odozvy, hmoty, ramena, tvary):\n",
    "    for i in range(hmoty):\n",
    "        odmocnit = []\n",
    "        for j in range(tvary):\n",
    "            odmocnit.append((np.dot(odozvy[j][i+1:hmoty], ramena[0:hmoty-i-1]))**2)\n",
    "        \n",
    "        print(f'M{i+2} = {np.sqrt(np.sum(odmocnit))/1000:.5f} kNm')"
   ]
  },
  {
   "cell_type": "code",
   "execution_count": 21,
   "metadata": {},
   "outputs": [
    {
     "name": "stdout",
     "output_type": "stream",
     "text": [
      "M2 = 6.21889 kNm\n",
      "M3 = 3.62252 kNm\n",
      "M4 = 1.69033 kNm\n",
      "M5 = 0.00000 kNm\n"
     ]
    }
   ],
   "source": [
    "ohybove_momenty(odozvy, hmoty, ramena, tvary)"
   ]
  },
  {
   "cell_type": "code",
   "execution_count": 27,
   "metadata": {},
   "outputs": [],
   "source": [
    "def ohybovy_moment_votknutie(momenty_preklopenia):\n",
    "    M_sum = np.sum(momenty_preklopenia, axis=0)\n",
    "    M_max = np.sqrt(M_sum[0]**2+M_sum[1]**2+M_sum[2]**2)/1000\n",
    "    print(f'M_max = {M_max:.5f} kNm')"
   ]
  },
  {
   "cell_type": "code",
   "execution_count": 28,
   "metadata": {},
   "outputs": [
    {
     "name": "stdout",
     "output_type": "stream",
     "text": [
      "M_max = 9.16612 kNm\n"
     ]
    }
   ],
   "source": [
    "ohybovy_moment_votknutie(momenty_preklopenia)"
   ]
  }
 ],
 "metadata": {
  "kernelspec": {
   "display_name": "Python 3.8.8 ('base')",
   "language": "python",
   "name": "python3"
  },
  "language_info": {
   "codemirror_mode": {
    "name": "ipython",
    "version": 3
   },
   "file_extension": ".py",
   "mimetype": "text/x-python",
   "name": "python",
   "nbconvert_exporter": "python",
   "pygments_lexer": "ipython3",
   "version": "3.8.8"
  },
  "orig_nbformat": 4,
  "vscode": {
   "interpreter": {
    "hash": "75918162d800b4b0afe9003a3a21e108f30b56a8709e9e92681416565459cfc0"
   }
  }
 },
 "nbformat": 4,
 "nbformat_minor": 2
}
